{
 "cells": [
  {
   "cell_type": "code",
   "execution_count": 1,
   "metadata": {},
   "outputs": [],
   "source": [
    "import os\n",
    "import sys\n",
    "os.environ[\"SPARK_HOME\"] = \"/usr/hdp/current/spark2-client\"\n",
    "os.environ[\"PYLIB\"] = os.environ[\"SPARK_HOME\"] + \"/python/lib\"\n",
    "sys.path.insert(0, os.environ[\"PYLIB\"] + \"/py4j-0.10.4-src.zip\")\n",
    "sys.path.insert(0, os.environ[\"PYLIB\"] + \"/pyspark.zip\")"
   ]
  },
  {
   "cell_type": "code",
   "execution_count": 2,
   "metadata": {},
   "outputs": [],
   "source": [
    "from pyspark.conf import SparkConf\n",
    "from pyspark import SparkContext\n",
    "from pyspark.sql import SparkSession\n",
    "\n",
    "conf = SparkConf().setAppName(\"Batch47_CSE7322c_CUTe\").setMaster('local[*]').set(\"spark.driver.extraClassPath\",\"/home/datasets/mysql-connector-java-8.0.13.jar\").set(\"spark.executor.extraClassPath\",\"/home/datasets/mysql-connector-java-8.0.13.jar\")\n",
    "sc = SparkContext(conf=conf)  \n",
    "spark = SparkSession(sc)  "
   ]
  },
  {
   "cell_type": "code",
   "execution_count": 3,
   "metadata": {},
   "outputs": [],
   "source": [
    "from pyspark.sql.types import *\n",
    "from pyspark.sql.functions import *\n",
    "import pandas as pd"
   ]
  },
  {
   "cell_type": "code",
   "execution_count": 4,
   "metadata": {},
   "outputs": [],
   "source": [
    "item=  spark.read.format(\"jdbc\").options(url=\"jdbc:mysql://172.16.0.218:3306/insofe_web_sales_db\",driver=\"com.mysql.jdbc.Driver\",dbtable=\"item\",user=\"insofeadmin\",password=\"insofe_password\").load()"
   ]
  },
  {
   "cell_type": "code",
   "execution_count": 5,
   "metadata": {},
   "outputs": [],
   "source": [
    "warehouse=  spark.read.format(\"jdbc\").options(url=\"jdbc:mysql://172.16.0.218:3306/insofe_web_sales_db\",driver=\"com.mysql.jdbc.Driver\",dbtable=\"warehouse\",user=\"insofeadmin\",password=\"insofe_password\").load()"
   ]
  },
  {
   "cell_type": "code",
   "execution_count": 6,
   "metadata": {},
   "outputs": [],
   "source": [
    "web_sales=  spark.read.format(\"jdbc\").options(url=\"jdbc:mysql://172.16.0.218:3306/insofe_web_sales_db\",driver=\"com.mysql.jdbc.Driver\",dbtable=\"web_sales\",user=\"insofeadmin\",password=\"insofe_password\").load()"
   ]
  },
  {
   "cell_type": "code",
   "execution_count": 22,
   "metadata": {},
   "outputs": [],
   "source": [
    "web_sales.createOrReplaceTempView(\"web_sales\")"
   ]
  },
  {
   "cell_type": "code",
   "execution_count": 18,
   "metadata": {},
   "outputs": [],
   "source": [
    "warehouse.createOrReplaceTempView(\"warehouseTable\")"
   ]
  },
  {
   "cell_type": "markdown",
   "metadata": {},
   "source": [
    "### 1. Find the top 10 items (ws_item_sk) that got sold online and their count from the web_sales table."
   ]
  },
  {
   "cell_type": "code",
   "execution_count": 7,
   "metadata": {},
   "outputs": [],
   "source": [
    "web_sales.createOrReplaceTempView(\"web_salesTable\")"
   ]
  },
  {
   "cell_type": "code",
   "execution_count": 8,
   "metadata": {},
   "outputs": [
    {
     "name": "stdout",
     "output_type": "stream",
     "text": [
      "+----------+-----+\n",
      "|ws_item_sk|count|\n",
      "+----------+-----+\n",
      "|     16339|  115|\n",
      "|     10657|  112|\n",
      "|     15091|  111|\n",
      "|      4861|  111|\n",
      "|      3091|  110|\n",
      "|      2149|  109|\n",
      "|     16081|  108|\n",
      "|     14683|  108|\n",
      "|     15361|  108|\n",
      "|     15655|  107|\n",
      "+----------+-----+\n",
      "\n"
     ]
    }
   ],
   "source": [
    "spark.sql(\"\"\"select ws_item_sk,count(*) as count from web_salesTable group by ws_item_sk order by count desc limit 10\"\"\").show()"
   ]
  },
  {
   "cell_type": "markdown",
   "metadata": {},
   "source": [
    "### 2. Group the items based on brand(i_brand) and display the top 50 brands. (Use item table) "
   ]
  },
  {
   "cell_type": "code",
   "execution_count": 9,
   "metadata": {},
   "outputs": [],
   "source": [
    "item.createOrReplaceTempView(\"itemTable\")"
   ]
  },
  {
   "cell_type": "code",
   "execution_count": 10,
   "metadata": {},
   "outputs": [
    {
     "name": "stdout",
     "output_type": "stream",
     "text": [
      "+-----------------+\n",
      "|          i_brand|\n",
      "+-----------------+\n",
      "| univunivamalg #9|\n",
      "| univunivamalg #8|\n",
      "| univunivamalg #7|\n",
      "| univunivamalg #6|\n",
      "| univunivamalg #5|\n",
      "| univunivamalg #4|\n",
      "| univunivamalg #3|\n",
      "| univunivamalg #2|\n",
      "|univunivamalg #12|\n",
      "|univunivamalg #11|\n",
      "|univunivamalg #10|\n",
      "| univunivamalg #1|\n",
      "|  univnameless #9|\n",
      "|  univnameless #8|\n",
      "|  univnameless #7|\n",
      "|  univnameless #6|\n",
      "|  univnameless #5|\n",
      "|  univnameless #4|\n",
      "|  univnameless #3|\n",
      "|  univnameless #2|\n",
      "+-----------------+\n",
      "only showing top 20 rows\n",
      "\n"
     ]
    }
   ],
   "source": [
    "spark.sql(\"\"\"select i_brand from itemTable group by i_brand order by i_brand desc limit 50\"\"\").show()"
   ]
  },
  {
   "cell_type": "markdown",
   "metadata": {},
   "source": [
    "### 3. Display the top 50 items in each brand and class."
   ]
  },
  {
   "cell_type": "code",
   "execution_count": 11,
   "metadata": {},
   "outputs": [
    {
     "name": "stdout",
     "output_type": "stream",
     "text": [
      "+-------------------+--------------+-----+\n",
      "|            i_brand|       i_class|count|\n",
      "+-------------------+--------------+-----+\n",
      "|  importoscholar #2|       country|  253|\n",
      "| edu packscholar #1|     classical|  253|\n",
      "|  importoimporto #2|        shirts|  250|\n",
      "|  exportischolar #1|           pop|  245|\n",
      "| importoedu pack #2|          mens|  243|\n",
      "| edu packimporto #1|sports-apparel|  242|\n",
      "|  importoimporto #1|        shirts|  242|\n",
      "| edu packscholar #2|     classical|  242|\n",
      "|  exportiexporti #1|      toddlers|  241|\n",
      "| importoedu pack #1|          mens|  239|\n",
      "|    importoamalg #2|    fragrances|  238|\n",
      "|  exportischolar #2|           pop|  238|\n",
      "|   amalgedu pack #2|        womens|  234|\n",
      "|   edu packamalg #2|      swimwear|  233|\n",
      "|      amalgamalg #1|       dresses|  227|\n",
      "|    importoamalg #1|    fragrances|  227|\n",
      "|edu packedu pack #2|      athletic|  227|\n",
      "|   edu packamalg #1|      swimwear|  227|\n",
      "|    amalgexporti #1|       newborn|  225|\n",
      "|    amalgscholar #1|          rock|  225|\n",
      "+-------------------+--------------+-----+\n",
      "only showing top 20 rows\n",
      "\n"
     ]
    }
   ],
   "source": [
    "spark.sql(\"select i_brand, i_class, count(*) as count from itemTable group by i_brand, i_class order by count desc limit 50\").show()"
   ]
  },
  {
   "cell_type": "markdown",
   "metadata": {},
   "source": [
    "### 4. Display top 20 items that got sold online ordered based on Total Quantity "
   ]
  },
  {
   "cell_type": "code",
   "execution_count": 12,
   "metadata": {},
   "outputs": [
    {
     "name": "stdout",
     "output_type": "stream",
     "text": [
      "+----------+--------------+\n",
      "|ws_item_sk|total_quantity|\n",
      "+----------+--------------+\n",
      "|      3091|          6007|\n",
      "|      6907|          5876|\n",
      "|      2677|          5831|\n",
      "|      4861|          5818|\n",
      "|      5485|          5778|\n",
      "|     14683|          5755|\n",
      "|      2965|          5680|\n",
      "|     12583|          5630|\n",
      "|      6523|          5619|\n",
      "|       625|          5600|\n",
      "|     12265|          5580|\n",
      "|      3739|          5576|\n",
      "|      6535|          5572|\n",
      "|      2305|          5545|\n",
      "|     16339|          5524|\n",
      "|     14047|          5505|\n",
      "|     17479|          5503|\n",
      "|     13729|          5498|\n",
      "|      5515|          5491|\n",
      "|      5929|          5471|\n",
      "+----------+--------------+\n",
      "\n"
     ]
    }
   ],
   "source": [
    "spark.sql(\"\"\"select ws_item_sk, sum(ws_quantity) as total_quantity from web_salesTable group by ws_item_sk order by total_quantity desc limit 20\"\"\").show()"
   ]
  },
  {
   "cell_type": "markdown",
   "metadata": {},
   "source": [
    "### 5. Display the count of classes for each category of items."
   ]
  },
  {
   "cell_type": "code",
   "execution_count": 13,
   "metadata": {},
   "outputs": [
    {
     "name": "stdout",
     "output_type": "stream",
     "text": [
      "+--------------+-----------+\n",
      "|count(i_class)| i_category|\n",
      "+--------------+-----------+\n",
      "|          1804|       Home|\n",
      "|          1781|     Sports|\n",
      "|            22|       null|\n",
      "|          1812|Electronics|\n",
      "|          1731|      Books|\n",
      "|          1809|        Men|\n",
      "|          1856|      Music|\n",
      "|          1789|      Women|\n",
      "|          1833|      Shoes|\n",
      "|          1736|    Jewelry|\n",
      "|          1784|   Children|\n",
      "+--------------+-----------+\n",
      "\n"
     ]
    }
   ],
   "source": [
    "spark.sql(\"\"\" select count(i_class), i_category from itemTable group by i_category\"\"\").show()"
   ]
  },
  {
   "cell_type": "markdown",
   "metadata": {},
   "source": [
    "### 6. Display the i_brand, i_wholesale_cost, i_class for the top 25 items that got sold online along with their count. (Use web_sales and item taes)"
   ]
  },
  {
   "cell_type": "code",
   "execution_count": 14,
   "metadata": {},
   "outputs": [
    {
     "name": "stdout",
     "output_type": "stream",
     "text": [
      "+-------------------+---------------+-----------------+-----+\n",
      "|            i_brand|        i_class|ws_wholesale_cost|count|\n",
      "+-------------------+---------------+-----------------+-----+\n",
      "|   amalgedu pack #2|         womens|            62.37|   10|\n",
      "| importoedu pack #2|           mens|            16.55|    8|\n",
      "|    amalgexporti #2|        newborn|            91.28|    8|\n",
      "| importoedu pack #2|           mens|            49.88|    8|\n",
      "|  exportiimporto #2|          pants|            87.95|    7|\n",
      "| edu packimporto #2| sports-apparel|            38.97|    7|\n",
      "|  importoimporto #1|         shirts|            96.45|    7|\n",
      "|  importoimporto #2|         shirts|             9.47|    7|\n",
      "| edu packscholar #2|      classical|            90.20|    7|\n",
      "| edu packscholar #2|      classical|            20.63|    7|\n",
      "|  importoimporto #2|         shirts|            30.56|    7|\n",
      "|  importoscholar #2|        country|            58.75|    7|\n",
      "|      amalgamalg #2|        dresses|            83.34|    7|\n",
      "| exportiedu pack #2|           kids|            39.79|    7|\n",
      "|  exportiexporti #2|       toddlers|            13.10|    7|\n",
      "| edu packexporti #2|school-uniforms|            39.54|    7|\n",
      "|  importoexporti #2|        infants|            42.03|    7|\n",
      "|edu packedu pack #2|       athletic|            93.99|    7|\n",
      "|    importoamalg #2|     fragrances|            39.80|    7|\n",
      "|   edu packamalg #2|       swimwear|            94.61|    7|\n",
      "| edu packexporti #2|school-uniforms|            92.92|    7|\n",
      "| edu packscholar #2|      classical|            63.09|    7|\n",
      "| exportiedu pack #1|           kids|            19.73|    7|\n",
      "|edu packedu pack #2|       athletic|            91.32|    7|\n",
      "| importoedu pack #2|           mens|            96.57|    7|\n",
      "+-------------------+---------------+-----------------+-----+\n",
      "only showing top 25 rows\n",
      "\n"
     ]
    }
   ],
   "source": [
    "spark.sql(\"select i.i_brand,i.i_class,ws.ws_wholesale_cost,count(*) as count from itemTable i join web_salesTable ws on i.i_item_sk = ws.ws_item_sk group by i.i_brand,i.i_class,ws.ws_wholesale_cost order by count desc\").show(25)"
   ]
  },
  {
   "cell_type": "markdown",
   "metadata": {},
   "source": [
    "### 7. Display the top 25 brands (i_brand) that got sold online along with their count. "
   ]
  },
  {
   "cell_type": "code",
   "execution_count": 27,
   "metadata": {},
   "outputs": [
    {
     "name": "stdout",
     "output_type": "stream",
     "text": [
      "+-------------------+-----+\n",
      "|            i_brand|count|\n",
      "+-------------------+-----+\n",
      "| importoedu pack #2|12172|\n",
      "| edu packscholar #2|11946|\n",
      "|  exportischolar #2|11725|\n",
      "|  importoscholar #2|11702|\n",
      "|  importoimporto #2|11567|\n",
      "|    importoamalg #2|11477|\n",
      "|   edu packamalg #2|11287|\n",
      "|   amalgedu pack #2|10996|\n",
      "|  importoexporti #2|10885|\n",
      "|      amalgamalg #2|10878|\n",
      "| edu packexporti #2|10873|\n",
      "|edu packedu pack #2|10731|\n",
      "| exportiedu pack #2|10641|\n",
      "|  exportiimporto #2|10490|\n",
      "|    amalgexporti #2|10400|\n",
      "|    amalgimporto #2|10131|\n",
      "|  exportiexporti #2| 9902|\n",
      "| edu packimporto #2| 9873|\n",
      "|    exportiamalg #2| 9795|\n",
      "|    amalgscholar #2| 9724|\n",
      "| edu packscholar #1| 8215|\n",
      "| edu packimporto #1| 8036|\n",
      "|  exportiexporti #1| 8036|\n",
      "|  importoimporto #1| 7904|\n",
      "|  exportischolar #1| 7813|\n",
      "+-------------------+-----+\n",
      "only showing top 25 rows\n",
      "\n"
     ]
    }
   ],
   "source": [
    "spark.sql(\"select i.i_brand,count(*) as count from itemTable i join web_sales ws on i.i_item_sk = ws.ws_item_sk group by i.i_brand order by count desc\").show(25)"
   ]
  },
  {
   "cell_type": "markdown",
   "metadata": {},
   "source": [
    "### 8. Display the top 25 classes (i_class) that got sold online along with their count."
   ]
  },
  {
   "cell_type": "code",
   "execution_count": 16,
   "metadata": {},
   "outputs": [
    {
     "name": "stdout",
     "output_type": "stream",
     "text": [
      "+---------------+-----+\n",
      "|        i_class|count|\n",
      "+---------------+-----+\n",
      "|           kids|  538|\n",
      "|      classical|  495|\n",
      "|         shirts|  492|\n",
      "|           mens|  483|\n",
      "|            pop|  483|\n",
      "|     fragrances|  465|\n",
      "|       swimwear|  460|\n",
      "|         womens|  459|\n",
      "|       toddlers|  459|\n",
      "|        country|  451|\n",
      "|       athletic|  451|\n",
      "|        dresses|  449|\n",
      "|        newborn|  448|\n",
      "| sports-apparel|  444|\n",
      "|    accessories|  443|\n",
      "|school-uniforms|  440|\n",
      "|        infants|  437|\n",
      "|          pants|  432|\n",
      "|           rock|  428|\n",
      "|      maternity|  418|\n",
      "+---------------+-----+\n",
      "only showing top 20 rows\n",
      "\n"
     ]
    }
   ],
   "source": [
    "spark.sql(\"select i_class,count(*) as count from itemTable group by i_class order by count desc limit 25\").show()"
   ]
  },
  {
   "cell_type": "markdown",
   "metadata": {},
   "source": [
    "### 9. Display the sum of the ws_ext_sales_price for each class(i_class) that got sold online. "
   ]
  },
  {
   "cell_type": "code",
   "execution_count": 17,
   "metadata": {},
   "outputs": [
    {
     "name": "stdout",
     "output_type": "stream",
     "text": [
      "+---------------+-----------+\n",
      "|        i_class|      count|\n",
      "+---------------+-----------+\n",
      "|          pools|12911573.77|\n",
      "|         travel|11518267.35|\n",
      "|         hockey|10586186.81|\n",
      "|     mattresses|11773261.56|\n",
      "|school-uniforms|45462865.77|\n",
      "|    televisions|11569919.80|\n",
      "|        newborn|43965615.69|\n",
      "|     automotive| 9807940.43|\n",
      "|    consignment| 9423738.24|\n",
      "|       athletic|44936971.82|\n",
      "|         estate|10703558.23|\n",
      "|            pop|49915680.94|\n",
      "|  jewelry boxes|13040282.69|\n",
      "|        camping|11071930.19|\n",
      "|      computers|13332186.90|\n",
      "|dvd/vcr players|14174158.21|\n",
      "|         stereo|12832302.53|\n",
      "|     fragrances|47685567.74|\n",
      "|       scanners|10719848.69|\n",
      "|      bracelets|10163329.84|\n",
      "+---------------+-----------+\n",
      "only showing top 20 rows\n",
      "\n"
     ]
    }
   ],
   "source": [
    "spark.sql(\"select i.i_class,sum(ws.ws_ext_sales_price) as count from itemTable as i join web_salesTable as ws on i.i_item_sk = ws.ws_item_sk group by i.i_class\") .show()"
   ]
  },
  {
   "cell_type": "markdown",
   "metadata": {},
   "source": [
    "### 10. Display the classes (i_class) and the net profit for the items sold online and their warehouse information (ws_warehouse_sk)."
   ]
  },
  {
   "cell_type": "code",
   "execution_count": 24,
   "metadata": {},
   "outputs": [
    {
     "name": "stdout",
     "output_type": "stream",
     "text": [
      "+---------+--------+---------+--------------+\n",
      "|i_item_sk| i_class|      sum|w_warehouse_sk|\n",
      "+---------+--------+---------+--------------+\n",
      "|        1|     pop|  -619.56|             4|\n",
      "|        1|     pop|  -725.30|             5|\n",
      "|        1|     pop| -2022.64|             1|\n",
      "|        1|     pop| -6205.65|             3|\n",
      "|        1|     pop| -9058.65|             2|\n",
      "|        2| dresses|  1567.22|             1|\n",
      "|        2| dresses|   721.88|             5|\n",
      "|        2| dresses| -3453.57|             3|\n",
      "|        2| dresses| -4212.21|             4|\n",
      "|        2| dresses|-11504.05|             2|\n",
      "|        3|   decor|  2492.37|             1|\n",
      "|        3|   decor|  -266.68|             3|\n",
      "|        3|   decor|  -415.32|             2|\n",
      "|        3|   decor|-15248.34|             5|\n",
      "|        3|   decor|-16343.92|             4|\n",
      "|        4| infants|  2824.68|             3|\n",
      "|        4| infants|    63.87|             2|\n",
      "|        4| infants| -1158.48|             5|\n",
      "|        4| infants| -1173.90|             4|\n",
      "|        4| infants| -2894.69|             1|\n",
      "|        5|  shirts|  2999.05|             4|\n",
      "|        5|  shirts|  -212.01|             3|\n",
      "|        5|  shirts| -2263.71|             5|\n",
      "|        5|  shirts| -6017.00|             2|\n",
      "|        5|  shirts| -6262.28|             1|\n",
      "|        6|   pants|  3752.94|             2|\n",
      "|        6|   pants|  2980.32|             1|\n",
      "|        6|   pants|  -690.38|             3|\n",
      "|        6|   pants| -4057.95|             4|\n",
      "|        6|   pants| -7214.30|             5|\n",
      "|        7| newborn|  8190.38|             1|\n",
      "|        7| newborn|   592.25|             2|\n",
      "|        7| newborn| -2164.13|             4|\n",
      "|        7| newborn| -5623.60|             3|\n",
      "|        7| newborn| -9215.39|             5|\n",
      "|        8|toddlers|  1886.78|             1|\n",
      "|        8|toddlers|  1710.89|             4|\n",
      "|        8|toddlers|  -623.09|             5|\n",
      "|        8|toddlers| -3454.39|             3|\n",
      "|        8|toddlers| -5597.46|             2|\n",
      "|        9|swimwear|  1522.23|             1|\n",
      "|        9|swimwear|   175.54|             2|\n",
      "|        9|swimwear|  -289.36|             3|\n",
      "|        9|swimwear| -2420.50|             5|\n",
      "|        9|swimwear| -3046.49|             4|\n",
      "|       10|scanners|   913.65|             4|\n",
      "|       10|scanners|  -174.80|             5|\n",
      "|       10|scanners|  -260.26|             1|\n",
      "|       10|scanners| -2483.45|             2|\n",
      "|       10|scanners| -7116.31|             3|\n",
      "+---------+--------+---------+--------------+\n",
      "only showing top 50 rows\n",
      "\n"
     ]
    }
   ],
   "source": [
    "spark.sql(\"select i.i_item_sk,i.i_class,sum(ws.ws_net_profit) as sum,w.w_warehouse_sk from itemTable as i join web_sales as ws on i.i_item_sk = ws.ws_item_sk join warehouseTable as w on ws.ws_warehouse_sk = w.w_warehouse_sk group by i.i_item_sk,i.i_class,w.w_warehouse_sk order by i.i_item_sk,sum desc\").show(50)\n"
   ]
  },
  {
   "cell_type": "code",
   "execution_count": null,
   "metadata": {},
   "outputs": [],
   "source": [
    "# sqoop job \\\n",
    "# --create cute5_importalltables_2305_2 \\\n",
    "#         -- import-all-tables \\\n",
    "#         --connect jdbc:mysql://172.16.0.218:3306/insofe_web_sales_db \\\n",
    "#         --username insofeadmin \\\n",
    "#         -P \\\n",
    "#         --warehouse-dir '/user/2305B47/insofe_web_sales_db/'\n",
    "# sqoop job --exec cute5_importalltables_2305_2            "
   ]
  },
  {
   "cell_type": "code",
   "execution_count": null,
   "metadata": {},
   "outputs": [],
   "source": [
    "# jupyter notebook --no-browser --ip 172.16.0.218 --port 22305"
   ]
  }
 ],
 "metadata": {
  "kernelspec": {
   "display_name": "Python 2",
   "language": "python",
   "name": "python2"
  },
  "language_info": {
   "codemirror_mode": {
    "name": "ipython",
    "version": 2
   },
   "file_extension": ".py",
   "mimetype": "text/x-python",
   "name": "python",
   "nbconvert_exporter": "python",
   "pygments_lexer": "ipython2",
   "version": "2.7.5"
  }
 },
 "nbformat": 4,
 "nbformat_minor": 2
}
